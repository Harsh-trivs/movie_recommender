{
 "cells": [
  {
   "cell_type": "code",
   "execution_count": 1,
   "id": "1887fb61-c352-43ae-8b0b-0560fd14308e",
   "metadata": {},
   "outputs": [],
   "source": [
    "import pandas as pd\n",
    "from sklearn.metrics.pairwise import cosine_similarity\n",
    "from sklearn.feature_extraction.text import CountVectorizer\n",
    "import pickle"
   ]
  },
  {
   "cell_type": "code",
   "execution_count": 2,
   "id": "b3e56edc-163a-4e9b-b3d2-561f46070749",
   "metadata": {},
   "outputs": [
    {
     "data": {
      "text/html": [
       "<div>\n",
       "<style scoped>\n",
       "    .dataframe tbody tr th:only-of-type {\n",
       "        vertical-align: middle;\n",
       "    }\n",
       "\n",
       "    .dataframe tbody tr th {\n",
       "        vertical-align: top;\n",
       "    }\n",
       "\n",
       "    .dataframe thead th {\n",
       "        text-align: right;\n",
       "    }\n",
       "</style>\n",
       "<table border=\"1\" class=\"dataframe\">\n",
       "  <thead>\n",
       "    <tr style=\"text-align: right;\">\n",
       "      <th></th>\n",
       "      <th>id</th>\n",
       "      <th>title</th>\n",
       "      <th>genre</th>\n",
       "      <th>original_language</th>\n",
       "      <th>overview</th>\n",
       "      <th>popularity</th>\n",
       "      <th>release_date</th>\n",
       "      <th>vote_average</th>\n",
       "      <th>vote_count</th>\n",
       "    </tr>\n",
       "  </thead>\n",
       "  <tbody>\n",
       "    <tr>\n",
       "      <th>0</th>\n",
       "      <td>278</td>\n",
       "      <td>The Shawshank Redemption</td>\n",
       "      <td>Drama,Crime</td>\n",
       "      <td>en</td>\n",
       "      <td>Framed in the 1940s for the double murder of h...</td>\n",
       "      <td>94.075</td>\n",
       "      <td>1994-09-23</td>\n",
       "      <td>8.7</td>\n",
       "      <td>21862</td>\n",
       "    </tr>\n",
       "  </tbody>\n",
       "</table>\n",
       "</div>"
      ],
      "text/plain": [
       "    id                     title        genre original_language  \\\n",
       "0  278  The Shawshank Redemption  Drama,Crime                en   \n",
       "\n",
       "                                            overview  popularity release_date  \\\n",
       "0  Framed in the 1940s for the double murder of h...      94.075   1994-09-23   \n",
       "\n",
       "   vote_average  vote_count  \n",
       "0           8.7       21862  "
      ]
     },
     "execution_count": 2,
     "metadata": {},
     "output_type": "execute_result"
    }
   ],
   "source": [
    "movies=pd.read_csv('data.csv')\n",
    "movies.head(1)"
   ]
  },
  {
   "cell_type": "code",
   "execution_count": 3,
   "id": "c0dabb0a-fb3d-4a75-8e70-8c0878ff8156",
   "metadata": {},
   "outputs": [
    {
     "data": {
      "text/plain": [
       "Index(['id', 'title', 'genre', 'original_language', 'overview', 'popularity',\n",
       "       'release_date', 'vote_average', 'vote_count'],\n",
       "      dtype='object')"
      ]
     },
     "execution_count": 3,
     "metadata": {},
     "output_type": "execute_result"
    }
   ],
   "source": [
    "movies.columns"
   ]
  },
  {
   "cell_type": "code",
   "execution_count": 4,
   "id": "6506b2a6-2179-4fb0-a43d-e5778d350edd",
   "metadata": {},
   "outputs": [
    {
     "data": {
      "text/plain": [
       "Index(['id', 'title', 'genre', 'overview', 'popularity'], dtype='object')"
      ]
     },
     "execution_count": 4,
     "metadata": {},
     "output_type": "execute_result"
    }
   ],
   "source": [
    "# <!-- feature engineering to discard non-relevant features. -->\n",
    "movies = movies[['id', 'title', 'genre', 'overview','popularity']]\n",
    "movies.columns"
   ]
  },
  {
   "cell_type": "code",
   "execution_count": 5,
   "id": "9227d9b4-b9be-42e8-a0cc-aecd9234f88a",
   "metadata": {},
   "outputs": [],
   "source": [
    "movies['tag'] = movies['genre']+\" \"+movies['overview']"
   ]
  },
  {
   "cell_type": "code",
   "execution_count": 6,
   "id": "9a6c98e5-f84e-4b03-8ef0-534135d02068",
   "metadata": {},
   "outputs": [
    {
     "data": {
      "text/html": [
       "<div>\n",
       "<style scoped>\n",
       "    .dataframe tbody tr th:only-of-type {\n",
       "        vertical-align: middle;\n",
       "    }\n",
       "\n",
       "    .dataframe tbody tr th {\n",
       "        vertical-align: top;\n",
       "    }\n",
       "\n",
       "    .dataframe thead th {\n",
       "        text-align: right;\n",
       "    }\n",
       "</style>\n",
       "<table border=\"1\" class=\"dataframe\">\n",
       "  <thead>\n",
       "    <tr style=\"text-align: right;\">\n",
       "      <th></th>\n",
       "      <th>id</th>\n",
       "      <th>title</th>\n",
       "      <th>tag</th>\n",
       "      <th>popularity</th>\n",
       "    </tr>\n",
       "  </thead>\n",
       "  <tbody>\n",
       "    <tr>\n",
       "      <th>0</th>\n",
       "      <td>278</td>\n",
       "      <td>The Shawshank Redemption</td>\n",
       "      <td>Drama,Crime Framed in the 1940s for the double...</td>\n",
       "      <td>94.075</td>\n",
       "    </tr>\n",
       "    <tr>\n",
       "      <th>1</th>\n",
       "      <td>19404</td>\n",
       "      <td>Dilwale Dulhania Le Jayenge</td>\n",
       "      <td>Comedy,Drama,Romance Raj is a rich, carefree, ...</td>\n",
       "      <td>25.408</td>\n",
       "    </tr>\n",
       "    <tr>\n",
       "      <th>2</th>\n",
       "      <td>238</td>\n",
       "      <td>The Godfather</td>\n",
       "      <td>Drama,Crime Spanning the years 1945 to 1955, a...</td>\n",
       "      <td>90.585</td>\n",
       "    </tr>\n",
       "    <tr>\n",
       "      <th>3</th>\n",
       "      <td>424</td>\n",
       "      <td>Schindler's List</td>\n",
       "      <td>Drama,History,War The true story of how busine...</td>\n",
       "      <td>44.761</td>\n",
       "    </tr>\n",
       "    <tr>\n",
       "      <th>4</th>\n",
       "      <td>240</td>\n",
       "      <td>The Godfather: Part II</td>\n",
       "      <td>Drama,Crime In the continuing saga of the Corl...</td>\n",
       "      <td>57.749</td>\n",
       "    </tr>\n",
       "  </tbody>\n",
       "</table>\n",
       "</div>"
      ],
      "text/plain": [
       "      id                        title  \\\n",
       "0    278     The Shawshank Redemption   \n",
       "1  19404  Dilwale Dulhania Le Jayenge   \n",
       "2    238                The Godfather   \n",
       "3    424             Schindler's List   \n",
       "4    240       The Godfather: Part II   \n",
       "\n",
       "                                                 tag  popularity  \n",
       "0  Drama,Crime Framed in the 1940s for the double...      94.075  \n",
       "1  Comedy,Drama,Romance Raj is a rich, carefree, ...      25.408  \n",
       "2  Drama,Crime Spanning the years 1945 to 1955, a...      90.585  \n",
       "3  Drama,History,War The true story of how busine...      44.761  \n",
       "4  Drama,Crime In the continuing saga of the Corl...      57.749  "
      ]
     },
     "execution_count": 6,
     "metadata": {},
     "output_type": "execute_result"
    }
   ],
   "source": [
    "movies = movies[['id', 'title', 'tag','popularity']]\n",
    "movies.head(5)"
   ]
  },
  {
   "cell_type": "code",
   "execution_count": 7,
   "id": "be542ae2-4013-4984-a6ee-be19cbaf4b81",
   "metadata": {},
   "outputs": [],
   "source": [
    "# creating vectors from the list of strings i.e, tag \n",
    "# this vector will represent the string in n dimensional space making it easier for\n",
    "# for computational analysis."
   ]
  },
  {
   "cell_type": "code",
   "execution_count": 8,
   "id": "28a89c9f-7a93-4f65-b753-0ccdbec8bcd1",
   "metadata": {},
   "outputs": [],
   "source": [
    "cv=CountVectorizer(max_features= 10000 , stop_words = 'english')"
   ]
  },
  {
   "cell_type": "code",
   "execution_count": 9,
   "id": "e56c5361-a82d-4405-b91d-9772fca86d73",
   "metadata": {},
   "outputs": [],
   "source": [
    "vector = cv.fit_transform(movies['tag'].values.astype('U')).toarray()"
   ]
  },
  {
   "cell_type": "code",
   "execution_count": 10,
   "id": "b531f86d-b7d2-4ffb-9f7d-be4d9d25ad97",
   "metadata": {},
   "outputs": [
    {
     "name": "stderr",
     "output_type": "stream",
     "text": [
      "c:\\Python311\\Lib\\site-packages\\sklearn\\utils\\extmath.py:205: RuntimeWarning: invalid value encountered in matmul\n",
      "  ret = a @ b\n"
     ]
    }
   ],
   "source": [
    "similarity = cosine_similarity(vector)\n",
    "def recommend(movie):\n",
    "    index = movies[movies['title']==movie].index[0]\n",
    "    distance = sorted(list(enumerate(similarity[index])) , reverse=True ,key=lambda vector:vector[1])\n",
    "    for i in distance[1:6]:\n",
    "        print(movies.iloc[i[0]].title)\n",
    "    "
   ]
  },
  {
   "cell_type": "code",
   "execution_count": 11,
   "id": "61762073-5b2b-483c-836e-28ce847b4e78",
   "metadata": {},
   "outputs": [
    {
     "name": "stdout",
     "output_type": "stream",
     "text": [
      "Iron Man 3\n",
      "Guardians of the Galaxy Vol. 2\n",
      "Avengers: Age of Ultron\n",
      "Star Wars: Episode III - Revenge of the Sith\n",
      "Iron Man 2\n"
     ]
    }
   ],
   "source": [
    "recommend(\"Iron Man\")"
   ]
  },
  {
   "cell_type": "code",
   "execution_count": 14,
   "id": "273d2139-154f-4383-a231-a81cbb93cdd3",
   "metadata": {},
   "outputs": [],
   "source": [
    "# using pickle to serialise python objects so that we don't have to calculate similarity and modify\n",
    "# movies for every run instead we can store their values in serialised file\n",
    "pickle.dump(movies,open('movies_list.pkl','wb'))\n",
    "pickle.dump(similarity,open('similarity.pkl','wb'))\n"
   ]
  }
 ],
 "metadata": {
  "kernelspec": {
   "display_name": "Python 3 (ipykernel)",
   "language": "python",
   "name": "python3"
  },
  "language_info": {
   "codemirror_mode": {
    "name": "ipython",
    "version": 3
   },
   "file_extension": ".py",
   "mimetype": "text/x-python",
   "name": "python",
   "nbconvert_exporter": "python",
   "pygments_lexer": "ipython3",
   "version": "3.11.4"
  }
 },
 "nbformat": 4,
 "nbformat_minor": 5
}
